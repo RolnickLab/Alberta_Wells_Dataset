{
 "cells": [
  {
   "cell_type": "code",
   "execution_count": 1,
   "metadata": {},
   "outputs": [],
   "source": [
    "import h5py\n",
    "import os\n",
    "import torch\n",
    "import pandas as pd\n",
    "import numpy as np\n",
    "from einops import rearrange\n",
    "from torch.utils.data import DataLoader, TensorDataset, Dataset\n",
    "from tqdm import tqdm\n",
    "\n",
    "\n",
    "\n",
    "\n",
    "class AWD_Dataset(torch.utils.data.Dataset):\n",
    "    def __init__(self, hdf5_file, label_type, transform=None):\n",
    "        self.csv_file = hdf5_file\n",
    "        self.label_type = label_type\n",
    "        self.transform_mask = None\n",
    "        self.transform = transform\n",
    "        df = pd.read_csv(self.csv_file)\n",
    "        self.image_ids = df['image_id'].tolist()\n",
    "        self.hdf5_file_paths = df.set_index('image_id')['hdf5_file_path'].to_dict()\n",
    "        self.num_images = len(self.image_ids)\n",
    "\n",
    "    def __getitem__(self, index):\n",
    "        image_id = self.image_ids[index]\n",
    "        hdf5_file_path = self.hdf5_file_paths[image_id]\n",
    "        image, mask = self.load_and_process(image_id, hdf5_file_path)\n",
    "        return image, mask\n",
    "\n",
    "    def __len__(self):\n",
    "        return len(self.image_ids)\n",
    "\n",
    "    def load_and_process(self, image_id, hdf5_file_path):\n",
    "        with h5py.File(hdf5_file_path, 'r', libver='latest', swmr=True) as hdf5:\n",
    "            image = hdf5['image'][...]\n",
    "            labels = hdf5['label'][self.label_type][...]\n",
    "\n",
    "        image = torch.tensor(image).float()\n",
    "        image = image / 10000\n",
    "\n",
    "        if self.label_type in [\"binary_seg_maps\"]:\n",
    "            mask = torch.tensor(labels)\n",
    "            mask[mask > 0] = 1\n",
    "            mask = torch.nn.functional.one_hot(mask, 2)\n",
    "            mask = mask[:, :, 1].float().unsqueeze(0)  # Add channel dimension\n",
    "            \n",
    "        elif self.label_type in [\"multi_class_seg_maps\"]:\n",
    "            mask = torch.tensor(labels)\n",
    "            mask = torch.nn.functional.one_hot(mask, num_classes=4).permute(2, 0, 1).float()\n",
    "\n",
    "        \n",
    "        if self.transform:\n",
    "            image = self.transform(image).squeeze(0)\n",
    "            mask = self.transform_mask(mask).squeeze(0)\n",
    "\n",
    "\n",
    "        return image.float(), mask.float()\n",
    "\n",
    "    def _adjust_shapes(self, image, mask):\n",
    "        if image.shape[2] != 4 or mask.shape[0] != 1:\n",
    "            if image.shape[0] == 4:\n",
    "                image = image.transpose(2, 0, 1)\n",
    "            elif image.shape[1] == 4:\n",
    "                image = image.transpose(0, 2, 1)\n",
    "                if mask.shape[0] == 1:\n",
    "                    if image.shape[0] != mask.shape[1]:\n",
    "                        image = image.transpose(1, 0, 2)\n",
    "            if mask.shape[0] == 1:\n",
    "                mask = mask.transpose(2, 0, 1)\n",
    "\n",
    "        if (image.shape[1] != mask.shape[1] or image.shape[2] != mask.shape[2]):\n",
    "            raise ValueError(f'The shape of object {image.shape} is incorrect')\n",
    "\n",
    "        return image, mask"
   ]
  },
  {
   "cell_type": "code",
   "execution_count": 2,
   "metadata": {},
   "outputs": [],
   "source": [
    "train_ds = AWD_Dataset(hdf5_file=\"train_csv_file.csv\", \n",
    "                        label_type=\"binary_seg_maps\", \n",
    "                        transform=None)\n",
    "\n",
    "train_loader = DataLoader(train_ds, \n",
    "                            batch_size=1,\n",
    "                            num_workers=8, \n",
    "                            pin_memory=True,\n",
    "                            prefetch_factor=8,\n",
    "                            persistent_workers=False)\n"
   ]
  },
  {
   "cell_type": "code",
   "execution_count": 3,
   "metadata": {},
   "outputs": [
    {
     "name": "stderr",
     "output_type": "stream",
     "text": [
      "100%|██████████| 167436/167436 [12:08<00:00, 229.71it/s] "
     ]
    },
    {
     "name": "stdout",
     "output_type": "stream",
     "text": [
      "[0.03978963475689965, 0.06304591754461406, 0.060595331014536895, 0.23040860575085406]\n",
      "[0.03658732531954657, 0.045488653216840556, 0.05400182458998847, 0.11936749497700323]\n",
      "[1.9407999515533447, 1.9943000078201294, 2.7534000873565674, 4.175000190734863]\n",
      "[0, 0, 0, 0]\n"
     ]
    },
    {
     "name": "stderr",
     "output_type": "stream",
     "text": [
      "\n"
     ]
    }
   ],
   "source": [
    "mean = [0.0,0.0,0.0,0.0]\n",
    "channels_sum = [0.0,0.0,0.0,0.0]\n",
    "channels_sqrd_sum = [0.0,0.0,0.0,0.0]\n",
    "num_batches = [0,0,0,0]\n",
    "std = [0.0,0.0,0.0,0.0]\n",
    "max_channel = [0,0,0,0]\n",
    "min_channel = [0,0,0,0]\n",
    "\n",
    "\n",
    "for image, mask in tqdm(train_loader):       \n",
    "    for channel in range(4):\n",
    "        channel_data = image[:, channel, :, :]\n",
    "        channels_sum[channel] += torch.mean(channel_data)\n",
    "        channels_sqrd_sum[channel] += torch.mean(channel_data**2)\n",
    "        num_batches[channel] += 1\n",
    "        if(torch.max(channel_data).item()>max_channel[channel]):\n",
    "            max_channel[channel] = torch.max(channel_data).item()\n",
    "        if(torch.min(channel_data).item()<min_channel[channel]):\n",
    "            min_channel[channel] = torch.min(channel_data).item()\n",
    "\n",
    "\n",
    "for channel in range(4):\n",
    "    mean[channel] = channels_sum[channel].item() / num_batches[channel]\n",
    "    std[channel] = (channels_sqrd_sum[channel].item() / num_batches[channel] - mean[channel]**2) ** 0.5\n",
    "        \n",
    "print(mean)\n",
    "print(std)\n",
    "print(max_channel)\n",
    "print(min_channel)"
   ]
  }
 ],
 "metadata": {
  "kernelspec": {
   "display_name": "ptnvs_env",
   "language": "python",
   "name": "python3"
  },
  "language_info": {
   "codemirror_mode": {
    "name": "ipython",
    "version": 3
   },
   "file_extension": ".py",
   "mimetype": "text/x-python",
   "name": "python",
   "nbconvert_exporter": "python",
   "pygments_lexer": "ipython3",
   "version": "3.11.7"
  }
 },
 "nbformat": 4,
 "nbformat_minor": 2
}
